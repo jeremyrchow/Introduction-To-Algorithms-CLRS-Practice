{
 "cells": [
  {
   "cell_type": "markdown",
   "metadata": {},
   "source": [
    "# Max Subarray\n",
    "Divide and Conquer"
   ]
  },
  {
   "cell_type": "code",
   "execution_count": 40,
   "metadata": {},
   "outputs": [],
   "source": [
    "import math\n",
    "def max_crossing_subarray(A,low,mid,high):\n",
    "    left_sum = -math.inf\n",
    "    right_sum= -math.inf\n",
    "    max_left = 0\n",
    "    max_right = 0\n",
    "    curr_sum=0\n",
    "    for i in range(mid,low-1,-1):\n",
    "        curr_sum = curr_sum + A[i]\n",
    "        if curr_sum > left_sum:\n",
    "            left_sum = curr_sum\n",
    "            max_left = i\n",
    "    curr_sum= 0 \n",
    "    for j in range(mid+1,high+1):\n",
    "        curr_sum = curr_sum + A[j]\n",
    "        if curr_sum > right_sum:\n",
    "            right_sum = curr_sum\n",
    "            max_right = j\n",
    "    return (max_left, max_right, left_sum + right_sum)\n",
    "def find_max_subarray(A,low,high):\n",
    "    print(f\"low: {low}, high: {high}\")\n",
    "    if high == low:\n",
    "        # base case: smallest subarray = 1 element\n",
    "        return (low,high,A[low])\n",
    "    else:\n",
    "        mid = math.floor((low + high)/2)\n",
    "        (left_low,left_high,left_sum) = find_max_subarray(A,low,mid)\n",
    "        (right_low,right_high,right_sum) = find_max_subarray(A,mid+1,high)\n",
    "        (cross_low,cross_high,cross_sum) = max_crossing_subarray(A,low,mid,high)\n",
    "        \n",
    "        if left_sum >= right_sum and left_sum>= cross_sum:\n",
    "            return (left_low, left_high, left_sum)\n",
    "        elif right_sum >= left_sum and right_sum >=cross_sum:\n",
    "            return (right_low, right_high, right_sum)\n",
    "        else:\n",
    "            return (cross_low, cross_high, cross_sum)"
   ]
  },
  {
   "cell_type": "code",
   "execution_count": 43,
   "metadata": {},
   "outputs": [
    {
     "name": "stdout",
     "output_type": "stream",
     "text": [
      "low: 0, high: 3\n",
      "low: 0, high: 1\n",
      "low: 0, high: 0\n",
      "low: 1, high: 1\n",
      "low: 2, high: 3\n",
      "low: 2, high: 2\n",
      "low: 3, high: 3\n"
     ]
    },
    {
     "data": {
      "text/plain": [
       "(1, 1, -2)"
      ]
     },
     "execution_count": 43,
     "metadata": {},
     "output_type": "execute_result"
    }
   ],
   "source": [
    "A=[1,-3,-5,6,-1,7,9,1]\n",
    "A=[-5,-2,-3,-4]\n",
    "find_max_subarray(A,0,len(A)-1)"
   ]
  },
  {
   "cell_type": "code",
   "execution_count": 14,
   "metadata": {},
   "outputs": [
    {
     "data": {
      "text/plain": [
       "-5"
      ]
     },
     "execution_count": 14,
     "metadata": {},
     "output_type": "execute_result"
    }
   ],
   "source": [
    "A[2]"
   ]
  },
  {
   "cell_type": "code",
   "execution_count": 47,
   "metadata": {},
   "outputs": [
    {
     "name": "stdout",
     "output_type": "stream",
     "text": [
      "<itertools.product object at 0x109533ee8>\n"
     ]
    }
   ],
   "source": [
    "import itertools\n",
    "print(itertools.product(A))"
   ]
  },
  {
   "cell_type": "code",
   "execution_count": null,
   "metadata": {},
   "outputs": [],
   "source": []
  }
 ],
 "metadata": {
  "kernelspec": {
   "display_name": "Python 3",
   "language": "python",
   "name": "python3"
  },
  "language_info": {
   "codemirror_mode": {
    "name": "ipython",
    "version": 3
   },
   "file_extension": ".py",
   "mimetype": "text/x-python",
   "name": "python",
   "nbconvert_exporter": "python",
   "pygments_lexer": "ipython3",
   "version": "3.7.3"
  }
 },
 "nbformat": 4,
 "nbformat_minor": 2
}
