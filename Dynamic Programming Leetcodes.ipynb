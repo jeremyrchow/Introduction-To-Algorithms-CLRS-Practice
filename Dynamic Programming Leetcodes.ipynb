{
 "cells": [
  {
   "cell_type": "markdown",
   "metadata": {},
   "source": [
    "# Dynamic Programming"
   ]
  },
  {
   "cell_type": "markdown",
   "metadata": {},
   "source": [
    "# Climbing Stairs Number of Ways to Top\n",
    "https://leetcode.com/problems/climbing-stairs/submissions/\n",
    "\n",
    "You are climbing a stair case. It takes n steps to reach to the top.\n",
    "\n",
    "Each time you can either climb 1 or 2 steps. In how many distinct ways can you climb to the top?\n",
    "\n",
    "Note: Given n will be a positive integer."
   ]
  },
  {
   "cell_type": "markdown",
   "metadata": {},
   "source": [
    "## Approach\n",
    "        0 steps = 0 ways\n",
    "        1 step = 1 ways\n",
    "        2 steps = 2 ways\n",
    "        3 steps = 3 ways\n",
    "        4 steps = 5 ways\n",
    "        # to get to step n, you either take ONE step from the previous step count or TWO steps from the step before that"
   ]
  },
  {
   "cell_type": "markdown",
   "metadata": {},
   "source": [
    "Dynamic Programming:\n",
    "O(N) speed - iterates once through for loop\n",
    "O(1) space - stores constant number of variables (x,y,z) no matter the size of n"
   ]
  },
  {
   "cell_type": "code",
   "execution_count": 1,
   "metadata": {},
   "outputs": [],
   "source": [
    "class Solution:\n",
    "    def climbStairs(self, n: int) -> int:\n",
    "        if n == 0:\n",
    "            return 0\n",
    "        elif n== 1:\n",
    "            return 1\n",
    "        elif n== 2:\n",
    "            return 2\n",
    "        else:\n",
    "            x = 1\n",
    "            y = 2\n",
    "            for i in range(2,n):\n",
    "                z = x + y\n",
    "                x,y = y, z\n",
    "        return z"
   ]
  },
  {
   "cell_type": "code",
   "execution_count": 7,
   "metadata": {},
   "outputs": [
    {
     "data": {
      "text/plain": [
       "3"
      ]
     },
     "execution_count": 7,
     "metadata": {},
     "output_type": "execute_result"
    }
   ],
   "source": [
    "mySolution = Solution()\n",
    "mySolution.climbStairs(3)"
   ]
  },
  {
   "cell_type": "markdown",
   "metadata": {},
   "source": [
    "# Memoization \n",
    "Save previous values for later via self.dp variable"
   ]
  },
  {
   "cell_type": "code",
   "execution_count": null,
   "metadata": {},
   "outputs": [],
   "source": [
    "\n",
    "class Solution:\n",
    "    def __init__(self):\n",
    "        self.dp=[0,1,2]\n",
    "    def climbStairs(self, n: int) -> int:\n",
    "        if n < len(self.dp):\n",
    "            return self.dp[n]\n",
    "        else:\n",
    "            for i in range(2,n):\n",
    "                self.dp.append(self.dp[-1] + self.dp[-2])\n",
    "        return self.dp[-1]\n",
    "    def getStore(self):\n",
    "        return self.dp"
   ]
  },
  {
   "cell_type": "code",
   "execution_count": 20,
   "metadata": {},
   "outputs": [
    {
     "name": "stdout",
     "output_type": "stream",
     "text": [
      "[0, 1, 2, 3, 5, 8, 13, 21, 34, 55, 89, 144, 233, 377, 610, 987, 1597, 2584, 4181, 6765, 10946]\n"
     ]
    },
    {
     "data": {
      "text/plain": [
       "987"
      ]
     },
     "execution_count": 20,
     "metadata": {},
     "output_type": "execute_result"
    }
   ],
   "source": [
    "mySolution = Solution()\n",
    "mySolution.climbStairs(20)\n",
    "print(mySolution.getStore())\n",
    "mySolution.climbStairs(15)"
   ]
  },
  {
   "cell_type": "markdown",
   "metadata": {},
   "source": [
    "# Robot in mxn Grid"
   ]
  },
  {
   "cell_type": "code",
   "execution_count": 32,
   "metadata": {},
   "outputs": [
    {
     "name": "stdout",
     "output_type": "stream",
     "text": [
      "[[1, 2, 3], [1, 2, 3]]\n"
     ]
    },
    {
     "data": {
      "text/plain": [
       "3"
      ]
     },
     "execution_count": 32,
     "metadata": {},
     "output_type": "execute_result"
    }
   ],
   "source": [
    "# WRONG\n",
    "class Solution:\n",
    "    def uniquePaths(self, m: int, n: int) -> int:\n",
    "        dp = [[None] * m] * n\n",
    "        for col in range(n):\n",
    "            for row in range(m):\n",
    "                if (col== 0) or (row == 0):\n",
    "                    dp[col][row] = 1\n",
    "                else:\n",
    "                    dp[col][row] = dp[col-1][row] + dp[col][row-1]\n",
    "        print(dp)\n",
    "        return dp[col][row]\n",
    "mySolution = Solution()\n",
    "mySolution.uniquePaths(3,2)"
   ]
  },
  {
   "cell_type": "code",
   "execution_count": 33,
   "metadata": {},
   "outputs": [
    {
     "name": "stdout",
     "output_type": "stream",
     "text": [
      "[[None, None, None], [None, None, None]]\n",
      "[[1, 2, 3], [1, 2, 3]]\n"
     ]
    },
    {
     "data": {
      "text/plain": [
       "3"
      ]
     },
     "execution_count": 33,
     "metadata": {},
     "output_type": "execute_result"
    }
   ],
   "source": [
    "# Right \n",
    "\n",
    "class Solution:\n",
    "    def uniquePaths(self, m: int, n: int) -> int:\n",
    "        dp = [[None]*m]*n\n",
    "        print(dp)\n",
    "        for i in range(n): # for each row\n",
    "            for j in range(m): # for each column\n",
    "                if j == 0 or i == 0:\n",
    "                    dp[i][j] = 1\n",
    "                else:\n",
    "                    dp[i][j] = dp[i-1][j]+dp[i][j-1]\n",
    "        print(dp)\n",
    "        return dp[n-1][m-1]\n",
    "mySolution = Solution()\n",
    "mySolution.uniquePaths(3,2)"
   ]
  },
  {
   "cell_type": "code",
   "execution_count": null,
   "metadata": {},
   "outputs": [],
   "source": []
  }
 ],
 "metadata": {
  "kernelspec": {
   "display_name": "Python 3",
   "language": "python",
   "name": "python3"
  },
  "language_info": {
   "codemirror_mode": {
    "name": "ipython",
    "version": 3
   },
   "file_extension": ".py",
   "mimetype": "text/x-python",
   "name": "python",
   "nbconvert_exporter": "python",
   "pygments_lexer": "ipython3",
   "version": "3.7.3"
  }
 },
 "nbformat": 4,
 "nbformat_minor": 2
}
