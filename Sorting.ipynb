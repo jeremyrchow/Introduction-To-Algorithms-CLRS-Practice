{
 "cells": [
  {
   "cell_type": "markdown",
   "metadata": {},
   "source": [
    "# Sorting\n",
    "Notes and implementations of sorting algorithms introduced in Ch.2"
   ]
  },
  {
   "cell_type": "markdown",
   "metadata": {},
   "source": [
    "## Insertion Sort"
   ]
  },
  {
   "cell_type": "code",
   "execution_count": 28,
   "metadata": {},
   "outputs": [],
   "source": [
    "def insertion_sort(A):\n",
    "    '''\n",
    "    Sorts Array A in place, least to greatest.\n",
    "    O(n**2) Complexity\n",
    "    '''\n",
    "    for j in range(1,len(A)):\n",
    "        val=A[j]\n",
    "        i=j-1\n",
    "        while i >= 0 and A[i] > val:\n",
    "            A[i+1] = A[i]\n",
    "            i=i-1\n",
    "        A[i+1] = val"
   ]
  },
  {
   "cell_type": "markdown",
   "metadata": {},
   "source": [
    "Every time a new element j is visited, all previous elements a[0] to a[j-1] are itereated through in the while loop, starting with the last element. If the old elements are greater than the new element A[j], they are pushed to the right by one until an element A[i] is reached that is not greater than A[j]. At this point, A[i] is filled by A[j] and a new element A[j] is selected given that everything else is sorted."
   ]
  },
  {
   "cell_type": "code",
   "execution_count": 24,
   "metadata": {},
   "outputs": [
    {
     "data": {
      "text/plain": [
       "[3, 4, 5, 7, 9]"
      ]
     },
     "execution_count": 24,
     "metadata": {},
     "output_type": "execute_result"
    }
   ],
   "source": [
    "A=[9,7,5,3,4]\n",
    "insertion_sort(A)\n",
    "A"
   ]
  },
  {
   "cell_type": "markdown",
   "metadata": {},
   "source": [
    "[1 7 5 3 4]\n",
    "J=2\n",
    "val = \n"
   ]
  },
  {
   "cell_type": "code",
   "execution_count": 33,
   "metadata": {},
   "outputs": [],
   "source": [
    "def insertion_sort_reverse(A):\n",
    "    '''\n",
    "    Sorts Array A in place, greatest to least.\n",
    "    O(n**2) Complexity\n",
    "    '''\n",
    "    for j in range(1,len(A)):\n",
    "        val=A[j]\n",
    "        i=j-1\n",
    "        while i >= 0 and A[i] < val:\n",
    "            A[i+1] = A[i]\n",
    "            i=i-1\n",
    "        A[i+1] = val"
   ]
  },
  {
   "cell_type": "code",
   "execution_count": 32,
   "metadata": {},
   "outputs": [
    {
     "data": {
      "text/plain": [
       "[9, 6, 5, 2, 1, 1]"
      ]
     },
     "execution_count": 32,
     "metadata": {},
     "output_type": "execute_result"
    }
   ],
   "source": [
    "A=[1,6,9,2,5,1]\n",
    "insertion_sort_reverse(A)\n",
    "A"
   ]
  },
  {
   "cell_type": "markdown",
   "metadata": {},
   "source": [
    "### Divide and Conquer\n",
    "- Recursive approach\n",
    "    - Divide problem into subproblems that are smaller instances of original problem\n",
    "    - Conquer - solve subproblems recursively\n",
    "    - Combine - Reassemble recursively solved components into top solution"
   ]
  },
  {
   "cell_type": "markdown",
   "metadata": {},
   "source": [
    "## Merge Sort"
   ]
  },
  {
   "cell_type": "code",
   "execution_count": 48,
   "metadata": {},
   "outputs": [],
   "source": [
    "import math"
   ]
  },
  {
   "cell_type": "code",
   "execution_count": 60,
   "metadata": {},
   "outputs": [],
   "source": [
    "A=[1,6,3,7]"
   ]
  },
  {
   "cell_type": "code",
   "execution_count": null,
   "metadata": {},
   "outputs": [],
   "source": [
    "start = 0\n",
    "end = 4\n",
    "mid = 4/2=2\n",
    "\n",
    "n1=2\n",
    "n2=2"
   ]
  },
  {
   "cell_type": "code",
   "execution_count": 61,
   "metadata": {},
   "outputs": [
    {
     "name": "stdout",
     "output_type": "stream",
     "text": [
      "0\n",
      "1\n"
     ]
    }
   ],
   "source": [
    "for i in range(2):\n",
    "    print(i)"
   ]
  },
  {
   "cell_type": "code",
   "execution_count": 123,
   "metadata": {},
   "outputs": [],
   "source": [
    "import numpy as np"
   ]
  },
  {
   "cell_type": "code",
   "execution_count": 215,
   "metadata": {},
   "outputs": [],
   "source": [
    "def merge(A,start,mid,end):\n",
    "    size_L=mid-start+1\n",
    "    size_R=end-mid\n",
    "    L=[0] * (size_L+1)\n",
    "    R=[0] * (size_R+1)\n",
    "    print(f\"Merge Call (A: {A},start: {start}, mid: {mid}, end: {end})\")\n",
    "    print(f\"\\t size_L: {size_L}, size_R: {size_R} \")\n",
    "    for L_ind in range(size_L):\n",
    "        L[L_ind]=A[start + L_ind]\n",
    "    for R_ind in range(size_R):\n",
    "        R[R_ind] = A[mid + R_ind + 1]\n",
    "    L[size_L] = math.inf\n",
    "    R[size_R] = math.inf\n",
    "    \n",
    "    L_ind=0\n",
    "    R_ind=0\n",
    "    print(f\"\\t L: {L}, R: {R} \")\n",
    "    print(\"\\t start,end: \", [start, end])\n",
    "    for A_index in range(start, end + 1):\n",
    "        print(f\"L_index: {L_ind}, R_index: {R_ind}\")\n",
    "        print(\"A_index: \", A_index)  \n",
    "        if L[L_ind] <= R[R_ind]:\n",
    "            A[A_index] = L[L_ind]\n",
    "            L_ind+=1\n",
    "        else:\n",
    "            A[A_index] = R[R_ind]\n",
    "            R_ind+=1\n",
    "        print(f\"A: {A}\")\n",
    "def merge_sort(A,start,end):\n",
    "    print(f\"Merge Sort Call ( A:{A}, start: {start}, end: {end})\")\n",
    "    if start < end:\n",
    "        mid=math.floor((start+end)/2)\n",
    "        print(\"\\t Mid: \",mid)\n",
    "        merge_sort(A,start,mid)\n",
    "        merge_sort(A,mid+1,end)\n",
    "        merge(A,start,mid,end)"
   ]
  },
  {
   "cell_type": "code",
   "execution_count": 216,
   "metadata": {},
   "outputs": [
    {
     "name": "stdout",
     "output_type": "stream",
     "text": [
      "Merge Sort Call ( A:[1, 5, 4, 3], start: 0, end: 3)\n",
      "\t Mid:  1\n",
      "Merge Sort Call ( A:[1, 5, 4, 3], start: 0, end: 1)\n",
      "\t Mid:  0\n",
      "Merge Sort Call ( A:[1, 5, 4, 3], start: 0, end: 0)\n",
      "Merge Sort Call ( A:[1, 5, 4, 3], start: 1, end: 1)\n",
      "Merge Call (A: [1, 5, 4, 3],start: 0, mid: 0, end: 1)\n",
      "\t size_L: 1, size_R: 1 \n",
      "\t L: [1, inf], R: [5, inf] \n",
      "\t start,end:  [0, 1]\n",
      "L_index: 0, R_index: 0\n",
      "A_index:  0\n",
      "A: [1, 5, 4, 3]\n",
      "L_index: 1, R_index: 0\n",
      "A_index:  1\n",
      "A: [1, 5, 4, 3]\n",
      "Merge Sort Call ( A:[1, 5, 4, 3], start: 2, end: 3)\n",
      "\t Mid:  2\n",
      "Merge Sort Call ( A:[1, 5, 4, 3], start: 2, end: 2)\n",
      "Merge Sort Call ( A:[1, 5, 4, 3], start: 3, end: 3)\n",
      "Merge Call (A: [1, 5, 4, 3],start: 2, mid: 2, end: 3)\n",
      "\t size_L: 1, size_R: 1 \n",
      "\t L: [4, inf], R: [3, inf] \n",
      "\t start,end:  [2, 3]\n",
      "L_index: 0, R_index: 0\n",
      "A_index:  2\n",
      "A: [1, 5, 3, 3]\n",
      "L_index: 0, R_index: 1\n",
      "A_index:  3\n",
      "A: [1, 5, 3, 4]\n",
      "Merge Call (A: [1, 5, 3, 4],start: 0, mid: 1, end: 3)\n",
      "\t size_L: 2, size_R: 2 \n",
      "\t L: [1, 5, inf], R: [3, 4, inf] \n",
      "\t start,end:  [0, 3]\n",
      "L_index: 0, R_index: 0\n",
      "A_index:  0\n",
      "A: [1, 5, 3, 4]\n",
      "L_index: 1, R_index: 0\n",
      "A_index:  1\n",
      "A: [1, 3, 3, 4]\n",
      "L_index: 1, R_index: 1\n",
      "A_index:  2\n",
      "A: [1, 3, 4, 4]\n",
      "L_index: 1, R_index: 2\n",
      "A_index:  3\n",
      "A: [1, 3, 4, 5]\n"
     ]
    },
    {
     "data": {
      "text/plain": [
       "[1, 3, 4, 5]"
      ]
     },
     "execution_count": 216,
     "metadata": {},
     "output_type": "execute_result"
    }
   ],
   "source": [
    "A=[1,5,4,3]\n",
    "merge_sort(A,0,len(A)-1)\n",
    "A"
   ]
  },
  {
   "cell_type": "code",
   "execution_count": null,
   "metadata": {},
   "outputs": [],
   "source": []
  }
 ],
 "metadata": {
  "kernelspec": {
   "display_name": "Python 3",
   "language": "python",
   "name": "python3"
  },
  "language_info": {
   "codemirror_mode": {
    "name": "ipython",
    "version": 3
   },
   "file_extension": ".py",
   "mimetype": "text/x-python",
   "name": "python",
   "nbconvert_exporter": "python",
   "pygments_lexer": "ipython3",
   "version": "3.7.3"
  }
 },
 "nbformat": 4,
 "nbformat_minor": 2
}
