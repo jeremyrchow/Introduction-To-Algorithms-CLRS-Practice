{
 "cells": [
  {
   "cell_type": "markdown",
   "metadata": {},
   "source": [
    "# Sorting\n",
    "Notes and implementations of sorting algorithms introduced in Ch.2"
   ]
  },
  {
   "cell_type": "markdown",
   "metadata": {},
   "source": [
    "## Insertion Sort"
   ]
  },
  {
   "cell_type": "code",
   "execution_count": 1,
   "metadata": {},
   "outputs": [],
   "source": [
    "def insertion_sort(A):\n",
    "    '''\n",
    "    Sorts Array A in place, least to greatest.\n",
    "    O(n**2) Complexity\n",
    "    '''\n",
    "    for j in range(1,len(A)):\n",
    "        val=A[j]\n",
    "        i=j-1\n",
    "        while i >= 0 and A[i] > val:\n",
    "            A[i+1] = A[i]\n",
    "            i=i-1\n",
    "        A[i+1] = val"
   ]
  },
  {
   "cell_type": "markdown",
   "metadata": {},
   "source": [
    "Every time a new element j is visited, all previous elements a[0] to a[j-1] are itereated through in the while loop, starting with the last element. If the old elements are greater than the new element A[j], they are pushed to the right by one until an element A[i] is reached that is not greater than A[j]. At this point, A[i] is filled by A[j] and a new element A[j] is selected given that everything else is sorted."
   ]
  },
  {
   "cell_type": "code",
   "execution_count": 2,
   "metadata": {},
   "outputs": [
    {
     "data": {
      "text/plain": [
       "[3, 4, 5, 7, 9]"
      ]
     },
     "execution_count": 2,
     "metadata": {},
     "output_type": "execute_result"
    }
   ],
   "source": [
    "A=[9,7,5,3,4]\n",
    "insertion_sort(A)\n",
    "A"
   ]
  },
  {
   "cell_type": "markdown",
   "metadata": {},
   "source": [
    "[1 7 5 3 4]\n",
    "J=2\n",
    "val = \n"
   ]
  },
  {
   "cell_type": "code",
   "execution_count": 3,
   "metadata": {},
   "outputs": [],
   "source": [
    "def insertion_sort_reverse(A):\n",
    "    '''\n",
    "    Sorts Array A in place, greatest to least.\n",
    "    O(n**2) Complexity\n",
    "    '''\n",
    "    for j in range(1,len(A)):\n",
    "        val=A[j]\n",
    "        i=j-1\n",
    "        while i >= 0 and A[i] < val:\n",
    "            A[i+1] = A[i]\n",
    "            i=i-1\n",
    "        A[i+1] = val"
   ]
  },
  {
   "cell_type": "code",
   "execution_count": 4,
   "metadata": {},
   "outputs": [
    {
     "data": {
      "text/plain": [
       "[9, 6, 5, 2, 1, 1]"
      ]
     },
     "execution_count": 4,
     "metadata": {},
     "output_type": "execute_result"
    }
   ],
   "source": [
    "A=[1,6,9,2,5,1]\n",
    "insertion_sort_reverse(A)\n",
    "A"
   ]
  },
  {
   "cell_type": "markdown",
   "metadata": {},
   "source": [
    "### Divide and Conquer\n",
    "- Recursive approach\n",
    "    - Divide problem into subproblems that are smaller instances of original problem\n",
    "    - Conquer - solve subproblems recursively\n",
    "    - Combine - Reassemble recursively solved components into top solution"
   ]
  },
  {
   "cell_type": "markdown",
   "metadata": {},
   "source": [
    "## Merge Sort"
   ]
  },
  {
   "cell_type": "code",
   "execution_count": 5,
   "metadata": {},
   "outputs": [],
   "source": [
    "import math"
   ]
  },
  {
   "cell_type": "code",
   "execution_count": 6,
   "metadata": {},
   "outputs": [],
   "source": [
    "A=[1,6,3,7]"
   ]
  },
  {
   "cell_type": "markdown",
   "metadata": {},
   "source": [
    "start = 0\n",
    "end = 4\n",
    "mid = 4/2=2\n",
    "\n",
    "n1=2\n",
    "n2=2"
   ]
  },
  {
   "cell_type": "code",
   "execution_count": null,
   "metadata": {},
   "outputs": [],
   "source": [
    "for i in range(2):\n",
    "    print(i)"
   ]
  },
  {
   "cell_type": "code",
   "execution_count": 8,
   "metadata": {},
   "outputs": [],
   "source": [
    "import numpy as np"
   ]
  },
  {
   "cell_type": "code",
   "execution_count": 9,
   "metadata": {},
   "outputs": [
    {
     "name": "stdout",
     "output_type": "stream",
     "text": [
      "Merge Sort Call ( A:[1, 5, 4, 3], start: 0, end: 3)\n",
      "\t Mid:  1\n",
      "Merge Sort Call ( A:[1, 5, 4, 3], start: 0, end: 1)\n",
      "\t Mid:  0\n",
      "Merge Sort Call ( A:[1, 5, 4, 3], start: 0, end: 0)\n",
      "Merge Sort Call ( A:[1, 5, 4, 3], start: 1, end: 1)\n",
      "Merge Call (A: [1, 5, 4, 3],start: 0, mid: 0, end: 1)\n",
      "\t size_L: 1, size_R: 1 \n",
      "\t L: [1, inf], R: [5, inf] \n",
      "\t start,end:  [0, 1]\n",
      "\t A_index: 0, L_index: 0, R_index: 0\n",
      "\t A: [1, 5, 4, 3]\n",
      "\t A_index: 1, L_index: 1, R_index: 0\n",
      "\t A: [1, 5, 4, 3]\n",
      "Merge Sort Call ( A:[1, 5, 4, 3], start: 2, end: 3)\n",
      "\t Mid:  2\n",
      "Merge Sort Call ( A:[1, 5, 4, 3], start: 2, end: 2)\n",
      "Merge Sort Call ( A:[1, 5, 4, 3], start: 3, end: 3)\n",
      "Merge Call (A: [1, 5, 4, 3],start: 2, mid: 2, end: 3)\n",
      "\t size_L: 1, size_R: 1 \n",
      "\t L: [4, inf], R: [3, inf] \n",
      "\t start,end:  [2, 3]\n",
      "\t A_index: 2, L_index: 0, R_index: 0\n",
      "\t A: [1, 5, 3, 3]\n",
      "\t A_index: 3, L_index: 0, R_index: 1\n",
      "\t A: [1, 5, 3, 4]\n",
      "Merge Call (A: [1, 5, 3, 4],start: 0, mid: 1, end: 3)\n",
      "\t size_L: 2, size_R: 2 \n",
      "\t L: [1, 5, inf], R: [3, 4, inf] \n",
      "\t start,end:  [0, 3]\n",
      "\t A_index: 0, L_index: 0, R_index: 0\n",
      "\t A: [1, 5, 3, 4]\n",
      "\t A_index: 1, L_index: 1, R_index: 0\n",
      "\t A: [1, 3, 3, 4]\n",
      "\t A_index: 2, L_index: 1, R_index: 1\n",
      "\t A: [1, 3, 4, 4]\n",
      "\t A_index: 3, L_index: 1, R_index: 2\n",
      "\t A: [1, 3, 4, 5]\n"
     ]
    },
    {
     "data": {
      "text/plain": [
       "[1, 3, 4, 5]"
      ]
     },
     "execution_count": 9,
     "metadata": {},
     "output_type": "execute_result"
    }
   ],
   "source": [
    "def merge(A,start,mid,end):\n",
    "    '''\n",
    "    Helper function for merge_sort\n",
    "    Uses sentinels to preserve inequality logic\n",
    "    '''\n",
    "    size_L=mid-start+1\n",
    "    size_R=end-mid\n",
    "    L=[0] * (size_L+1)\n",
    "    R=[0] * (size_R+1)\n",
    "    print(f\"Merge Call (A: {A},start: {start}, mid: {mid}, end: {end})\")\n",
    "    print(f\"\\t size_L: {size_L}, size_R: {size_R} \")\n",
    "    for L_ind in range(size_L):\n",
    "        L[L_ind]=A[start + L_ind]\n",
    "    for R_ind in range(size_R):\n",
    "        R[R_ind] = A[mid + R_ind + 1]\n",
    "    L[size_L] = math.inf\n",
    "    R[size_R] = math.inf\n",
    "    \n",
    "    L_ind=0\n",
    "    R_ind=0\n",
    "    print(f\"\\t L: {L}, R: {R} \")\n",
    "    print(\"\\t start,end: \", [start, end])\n",
    "    for A_index in range(start, end + 1):\n",
    "        print(f\"\\t A_index: {A_index}, L_index: {L_ind}, R_index: {R_ind}\")\n",
    "        if L[L_ind] <= R[R_ind]:\n",
    "            A[A_index] = L[L_ind]\n",
    "            L_ind+=1\n",
    "        else:\n",
    "            A[A_index] = R[R_ind]\n",
    "            R_ind+=1\n",
    "        print(f\"\\t A: {A}\")\n",
    "def merge_sort(A,start,end):\n",
    "    '''\n",
    "    Sorts array A in place using divide and conquer method.\n",
    "    '''\n",
    "    print(f\"Merge Sort Call ( A:{A}, start: {start}, end: {end})\")\n",
    "    if start < end:\n",
    "        mid=math.floor((start+end)/2)\n",
    "        print(\"\\t Mid: \",mid)\n",
    "        merge_sort(A,start,mid)\n",
    "        merge_sort(A,mid+1,end)\n",
    "        merge(A,start,mid,end)\n",
    "\n",
    "A=[1,5,4,3]\n",
    "merge_sort(A,0,len(A)-1)\n",
    "# Need to input len(A) - 1 because of indexing at 0 instead of 1 like CLRS pseudocode\n",
    "A"
   ]
  },
  {
   "cell_type": "code",
   "execution_count": 13,
   "metadata": {},
   "outputs": [
    {
     "name": "stdout",
     "output_type": "stream",
     "text": [
      "Merge Call (A: [1, 6, 3, 4],start: 0, mid: 0, end: 1)\n",
      "\t size_L: 1, size_R: 1 \n",
      "A: [1, 6, 3, 4]\n",
      "A: [1, 6, 3, 4]\n"
     ]
    },
    {
     "ename": "IndexError",
     "evalue": "list index out of range",
     "output_type": "error",
     "traceback": [
      "\u001b[0;31m---------------------------------------------------------------------------\u001b[0m",
      "\u001b[0;31mIndexError\u001b[0m                                Traceback (most recent call last)",
      "\u001b[0;32m<ipython-input-13-9a5dd177fe01>\u001b[0m in \u001b[0;36m<module>\u001b[0;34m\u001b[0m\n\u001b[1;32m     38\u001b[0m         \u001b[0mmerge_no_sentinel\u001b[0m\u001b[0;34m(\u001b[0m\u001b[0mA\u001b[0m\u001b[0;34m,\u001b[0m\u001b[0mstart\u001b[0m\u001b[0;34m,\u001b[0m\u001b[0mmid\u001b[0m\u001b[0;34m,\u001b[0m\u001b[0mend\u001b[0m\u001b[0;34m)\u001b[0m\u001b[0;34m\u001b[0m\u001b[0;34m\u001b[0m\u001b[0m\n\u001b[1;32m     39\u001b[0m \u001b[0mA\u001b[0m\u001b[0;34m=\u001b[0m \u001b[0;34m[\u001b[0m\u001b[0;36m1\u001b[0m\u001b[0;34m,\u001b[0m\u001b[0;36m6\u001b[0m\u001b[0;34m,\u001b[0m\u001b[0;36m3\u001b[0m\u001b[0;34m,\u001b[0m\u001b[0;36m4\u001b[0m\u001b[0;34m]\u001b[0m\u001b[0;34m\u001b[0m\u001b[0;34m\u001b[0m\u001b[0m\n\u001b[0;32m---> 40\u001b[0;31m \u001b[0mmerge_sort_no_sentinel\u001b[0m\u001b[0;34m(\u001b[0m\u001b[0mA\u001b[0m\u001b[0;34m,\u001b[0m\u001b[0;36m0\u001b[0m\u001b[0;34m,\u001b[0m\u001b[0mlen\u001b[0m\u001b[0;34m(\u001b[0m\u001b[0mA\u001b[0m\u001b[0;34m)\u001b[0m\u001b[0;34m-\u001b[0m\u001b[0;36m1\u001b[0m\u001b[0;34m)\u001b[0m\u001b[0;34m\u001b[0m\u001b[0;34m\u001b[0m\u001b[0m\n\u001b[0m\u001b[1;32m     41\u001b[0m \u001b[0mprint\u001b[0m\u001b[0;34m(\u001b[0m\u001b[0mA\u001b[0m\u001b[0;34m)\u001b[0m\u001b[0;34m\u001b[0m\u001b[0;34m\u001b[0m\u001b[0m\n",
      "\u001b[0;32m<ipython-input-13-9a5dd177fe01>\u001b[0m in \u001b[0;36mmerge_sort_no_sentinel\u001b[0;34m(A, start, end)\u001b[0m\n\u001b[1;32m     34\u001b[0m     \u001b[0;32mif\u001b[0m \u001b[0mstart\u001b[0m \u001b[0;34m<\u001b[0m \u001b[0mend\u001b[0m\u001b[0;34m:\u001b[0m\u001b[0;34m\u001b[0m\u001b[0;34m\u001b[0m\u001b[0m\n\u001b[1;32m     35\u001b[0m         \u001b[0mmid\u001b[0m \u001b[0;34m=\u001b[0m \u001b[0mmath\u001b[0m\u001b[0;34m.\u001b[0m\u001b[0mfloor\u001b[0m\u001b[0;34m(\u001b[0m\u001b[0;34m(\u001b[0m\u001b[0mend\u001b[0m \u001b[0;34m+\u001b[0m \u001b[0mstart\u001b[0m\u001b[0;34m)\u001b[0m\u001b[0;34m/\u001b[0m\u001b[0;36m2\u001b[0m\u001b[0;34m)\u001b[0m\u001b[0;34m\u001b[0m\u001b[0;34m\u001b[0m\u001b[0m\n\u001b[0;32m---> 36\u001b[0;31m         \u001b[0mmerge_sort_no_sentinel\u001b[0m\u001b[0;34m(\u001b[0m\u001b[0mA\u001b[0m\u001b[0;34m,\u001b[0m\u001b[0mstart\u001b[0m\u001b[0;34m,\u001b[0m\u001b[0mmid\u001b[0m\u001b[0;34m)\u001b[0m\u001b[0;34m\u001b[0m\u001b[0;34m\u001b[0m\u001b[0m\n\u001b[0m\u001b[1;32m     37\u001b[0m         \u001b[0mmerge_sort_no_sentinel\u001b[0m\u001b[0;34m(\u001b[0m\u001b[0mA\u001b[0m\u001b[0;34m,\u001b[0m\u001b[0mmid\u001b[0m\u001b[0;34m+\u001b[0m\u001b[0;36m1\u001b[0m\u001b[0;34m,\u001b[0m\u001b[0mend\u001b[0m\u001b[0;34m)\u001b[0m\u001b[0;34m\u001b[0m\u001b[0;34m\u001b[0m\u001b[0m\n\u001b[1;32m     38\u001b[0m         \u001b[0mmerge_no_sentinel\u001b[0m\u001b[0;34m(\u001b[0m\u001b[0mA\u001b[0m\u001b[0;34m,\u001b[0m\u001b[0mstart\u001b[0m\u001b[0;34m,\u001b[0m\u001b[0mmid\u001b[0m\u001b[0;34m,\u001b[0m\u001b[0mend\u001b[0m\u001b[0;34m)\u001b[0m\u001b[0;34m\u001b[0m\u001b[0;34m\u001b[0m\u001b[0m\n",
      "\u001b[0;32m<ipython-input-13-9a5dd177fe01>\u001b[0m in \u001b[0;36mmerge_sort_no_sentinel\u001b[0;34m(A, start, end)\u001b[0m\n\u001b[1;32m     36\u001b[0m         \u001b[0mmerge_sort_no_sentinel\u001b[0m\u001b[0;34m(\u001b[0m\u001b[0mA\u001b[0m\u001b[0;34m,\u001b[0m\u001b[0mstart\u001b[0m\u001b[0;34m,\u001b[0m\u001b[0mmid\u001b[0m\u001b[0;34m)\u001b[0m\u001b[0;34m\u001b[0m\u001b[0;34m\u001b[0m\u001b[0m\n\u001b[1;32m     37\u001b[0m         \u001b[0mmerge_sort_no_sentinel\u001b[0m\u001b[0;34m(\u001b[0m\u001b[0mA\u001b[0m\u001b[0;34m,\u001b[0m\u001b[0mmid\u001b[0m\u001b[0;34m+\u001b[0m\u001b[0;36m1\u001b[0m\u001b[0;34m,\u001b[0m\u001b[0mend\u001b[0m\u001b[0;34m)\u001b[0m\u001b[0;34m\u001b[0m\u001b[0;34m\u001b[0m\u001b[0m\n\u001b[0;32m---> 38\u001b[0;31m         \u001b[0mmerge_no_sentinel\u001b[0m\u001b[0;34m(\u001b[0m\u001b[0mA\u001b[0m\u001b[0;34m,\u001b[0m\u001b[0mstart\u001b[0m\u001b[0;34m,\u001b[0m\u001b[0mmid\u001b[0m\u001b[0;34m,\u001b[0m\u001b[0mend\u001b[0m\u001b[0;34m)\u001b[0m\u001b[0;34m\u001b[0m\u001b[0;34m\u001b[0m\u001b[0m\n\u001b[0m\u001b[1;32m     39\u001b[0m \u001b[0mA\u001b[0m\u001b[0;34m=\u001b[0m \u001b[0;34m[\u001b[0m\u001b[0;36m1\u001b[0m\u001b[0;34m,\u001b[0m\u001b[0;36m6\u001b[0m\u001b[0;34m,\u001b[0m\u001b[0;36m3\u001b[0m\u001b[0;34m,\u001b[0m\u001b[0;36m4\u001b[0m\u001b[0;34m]\u001b[0m\u001b[0;34m\u001b[0m\u001b[0;34m\u001b[0m\u001b[0m\n\u001b[1;32m     40\u001b[0m \u001b[0mmerge_sort_no_sentinel\u001b[0m\u001b[0;34m(\u001b[0m\u001b[0mA\u001b[0m\u001b[0;34m,\u001b[0m\u001b[0;36m0\u001b[0m\u001b[0;34m,\u001b[0m\u001b[0mlen\u001b[0m\u001b[0;34m(\u001b[0m\u001b[0mA\u001b[0m\u001b[0;34m)\u001b[0m\u001b[0;34m-\u001b[0m\u001b[0;36m1\u001b[0m\u001b[0;34m)\u001b[0m\u001b[0;34m\u001b[0m\u001b[0;34m\u001b[0m\u001b[0m\n",
      "\u001b[0;32m<ipython-input-13-9a5dd177fe01>\u001b[0m in \u001b[0;36mmerge_no_sentinel\u001b[0;34m(A, start, mid, end)\u001b[0m\n\u001b[1;32m     25\u001b[0m             \u001b[0mi\u001b[0m\u001b[0;34m+=\u001b[0m\u001b[0;36m1\u001b[0m\u001b[0;34m\u001b[0m\u001b[0;34m\u001b[0m\u001b[0m\n\u001b[1;32m     26\u001b[0m \u001b[0;31m#         breakpoint()\u001b[0m\u001b[0;34m\u001b[0m\u001b[0;34m\u001b[0m\u001b[0;34m\u001b[0m\u001b[0m\n\u001b[0;32m---> 27\u001b[0;31m         \u001b[0;32mif\u001b[0m \u001b[0mL\u001b[0m\u001b[0;34m[\u001b[0m\u001b[0mi\u001b[0m\u001b[0;34m]\u001b[0m \u001b[0;34m<=\u001b[0m \u001b[0mR\u001b[0m\u001b[0;34m[\u001b[0m\u001b[0mi\u001b[0m\u001b[0;34m]\u001b[0m\u001b[0;34m:\u001b[0m\u001b[0;34m\u001b[0m\u001b[0;34m\u001b[0m\u001b[0m\n\u001b[0m\u001b[1;32m     28\u001b[0m             \u001b[0mA\u001b[0m\u001b[0;34m[\u001b[0m\u001b[0mk\u001b[0m\u001b[0;34m]\u001b[0m \u001b[0;34m=\u001b[0m \u001b[0mL\u001b[0m\u001b[0;34m[\u001b[0m\u001b[0mi\u001b[0m\u001b[0;34m]\u001b[0m\u001b[0;34m\u001b[0m\u001b[0;34m\u001b[0m\u001b[0m\n\u001b[1;32m     29\u001b[0m             \u001b[0mi\u001b[0m \u001b[0;34m+=\u001b[0m \u001b[0;36m1\u001b[0m\u001b[0;34m\u001b[0m\u001b[0;34m\u001b[0m\u001b[0m\n",
      "\u001b[0;31mIndexError\u001b[0m: list index out of range"
     ]
    }
   ],
   "source": [
    "def merge_no_sentinel(A,start,mid,end):\n",
    "    size_L=mid-start+1\n",
    "    size_R=end-mid\n",
    "    print(f\"Merge Call (A: {A},start: {start}, mid: {mid}, end: {end})\")\n",
    "    print(f\"\\t size_L: {size_L}, size_R: {size_R} \")\n",
    "\n",
    "    \n",
    "    L=[0] * size_L\n",
    "    R=[0] * size_R\n",
    "    \n",
    "    for i in range(size_L):\n",
    "        L[i] = A[start + i]\n",
    "    for j in range(size_R):\n",
    "        R[j] = A[mid + j + 1]\n",
    "    i=0\n",
    "    j=0\n",
    "    for k in range(start,end+1):\n",
    "        print(f\"A: {A}\")\n",
    "        if not L or i >= size_L:\n",
    "            A[k] = R[j]\n",
    "            j+=1\n",
    "        elif not R or j >= size_R:\n",
    "            A[k] = L[i]\n",
    "            i+=1\n",
    "        if L[i] <= R[i]:\n",
    "            A[k] = L[i]\n",
    "            i += 1\n",
    "#         else:\n",
    "#             A[k] = R[j]\n",
    "#             j +=1 \n",
    "def merge_sort_no_sentinel(A,start,end):\n",
    "    if start < end:\n",
    "        mid = math.floor((end + start)/2)\n",
    "        merge_sort_no_sentinel(A,start,mid)\n",
    "        merge_sort_no_sentinel(A,mid+1,end)\n",
    "        merge_no_sentinel(A,start,mid,end)\n",
    "A= [1,6,3,4]\n",
    "merge_sort_no_sentinel(A,0,len(A)-1)\n",
    "print(A)\n"
   ]
  },
  {
   "cell_type": "code",
   "execution_count": 16,
   "metadata": {},
   "outputs": [
    {
     "data": {
      "text/plain": [
       "[1, 2, 3, 3, 4]"
      ]
     },
     "execution_count": 16,
     "metadata": {},
     "output_type": "execute_result"
    }
   ],
   "source": [
    "C = [1,2,3]\n",
    "C.extend([3,4])\n",
    "C"
   ]
  },
  {
   "cell_type": "code",
   "execution_count": 19,
   "metadata": {},
   "outputs": [
    {
     "ename": "NameError",
     "evalue": "name 'heapq' is not defined",
     "output_type": "error",
     "traceback": [
      "\u001b[0;31m---------------------------------------------------------------------------\u001b[0m",
      "\u001b[0;31mNameError\u001b[0m                                 Traceback (most recent call last)",
      "\u001b[0;32m<ipython-input-19-36b4f5485b20>\u001b[0m in \u001b[0;36m<module>\u001b[0;34m\u001b[0m\n\u001b[0;32m----> 1\u001b[0;31m \u001b[0mheapq\u001b[0m\u001b[0;34m.\u001b[0m\u001b[0mheapify\u001b[0m\u001b[0;34m(\u001b[0m\u001b[0;34m)\u001b[0m\u001b[0;34m\u001b[0m\u001b[0;34m\u001b[0m\u001b[0m\n\u001b[0m",
      "\u001b[0;31mNameError\u001b[0m: name 'heapq' is not defined"
     ]
    }
   ],
   "source": [
    "heapq.heapify()"
   ]
  },
  {
   "cell_type": "code",
   "execution_count": 24,
   "metadata": {},
   "outputs": [
    {
     "data": {
      "text/plain": [
       "[1, 3, 2, 6]"
      ]
     },
     "execution_count": 24,
     "metadata": {},
     "output_type": "execute_result"
    }
   ],
   "source": [
    "import heapq\n",
    "C= [6,1,2,3]\n",
    "heapq.heapify(C)\n",
    "C"
   ]
  },
  {
   "cell_type": "code",
   "execution_count": null,
   "metadata": {},
   "outputs": [],
   "source": []
  }
 ],
 "metadata": {
  "kernelspec": {
   "display_name": "Python 3",
   "language": "python",
   "name": "python3"
  },
  "language_info": {
   "codemirror_mode": {
    "name": "ipython",
    "version": 3
   },
   "file_extension": ".py",
   "mimetype": "text/x-python",
   "name": "python",
   "nbconvert_exporter": "python",
   "pygments_lexer": "ipython3",
   "version": "3.7.3"
  }
 },
 "nbformat": 4,
 "nbformat_minor": 2
}
