{
 "cells": [
  {
   "cell_type": "markdown",
   "metadata": {},
   "source": [
    "# Sorting"
   ]
  },
  {
   "cell_type": "markdown",
   "metadata": {},
   "source": [
    "## Insertion Sort"
   ]
  },
  {
   "cell_type": "code",
   "execution_count": 28,
   "metadata": {},
   "outputs": [],
   "source": [
    "def insertion_sort(A):\n",
    "    '''\n",
    "    Sorts Array A in place, least to greatest.\n",
    "    O(n**2) Complexity\n",
    "    '''\n",
    "    for j in range(1,len(A)):\n",
    "        val=A[j]\n",
    "        i=j-1\n",
    "        while i >= 0 and A[i] > val:\n",
    "            A[i+1] = A[i]\n",
    "            i=i-1\n",
    "        A[i+1] = val"
   ]
  },
  {
   "cell_type": "markdown",
   "metadata": {},
   "source": [
    "Every time a new element j is visited, all previous elements a[0] to a[j-1] are itereated through in the while loop, starting with the last element. If the old elements are greater than the new element A[j], they are pushed to the right by one until an element A[i] is reached that is not greater than A[j]. At this point, A[i] is filled by A[j] and a new element A[j] is selected given that everything else is sorted."
   ]
  },
  {
   "cell_type": "code",
   "execution_count": 24,
   "metadata": {},
   "outputs": [
    {
     "data": {
      "text/plain": [
       "[3, 4, 5, 7, 9]"
      ]
     },
     "execution_count": 24,
     "metadata": {},
     "output_type": "execute_result"
    }
   ],
   "source": [
    "A=[9,7,5,3,4]\n",
    "insertion_sort(A)\n",
    "A"
   ]
  },
  {
   "cell_type": "markdown",
   "metadata": {},
   "source": [
    "[1 7 5 3 4]\n",
    "J=2\n",
    "val = \n"
   ]
  },
  {
   "cell_type": "code",
   "execution_count": 27,
   "metadata": {},
   "outputs": [],
   "source": [
    "def insertion_sort_reverse(A):\n",
    "    '''\n",
    "    Sorts Array A in place, greatest to least.\n",
    "    O(n**2) Complexity\n",
    "    '''\n",
    "    for j in range(1,len(A)):\n",
    "        val=A[j]\n",
    "        i=j-1\n",
    "        while i >= 0 and A[i] < val:\n",
    "            A[i+1] = A[i]\n",
    "            i=i-1\n",
    "        A[i+1] = val"
   ]
  },
  {
   "cell_type": "code",
   "execution_count": 32,
   "metadata": {},
   "outputs": [
    {
     "data": {
      "text/plain": [
       "[9, 6, 5, 2, 1, 1]"
      ]
     },
     "execution_count": 32,
     "metadata": {},
     "output_type": "execute_result"
    }
   ],
   "source": [
    "A=[1,6,9,2,5,1]\n",
    "insertion_sort_reverse(A)\n",
    "A"
   ]
  },
  {
   "cell_type": "code",
   "execution_count": null,
   "metadata": {},
   "outputs": [],
   "source": []
  }
 ],
 "metadata": {
  "kernelspec": {
   "display_name": "Python 3",
   "language": "python",
   "name": "python3"
  },
  "language_info": {
   "codemirror_mode": {
    "name": "ipython",
    "version": 3
   },
   "file_extension": ".py",
   "mimetype": "text/x-python",
   "name": "python",
   "nbconvert_exporter": "python",
   "pygments_lexer": "ipython3",
   "version": "3.7.3"
  }
 },
 "nbformat": 4,
 "nbformat_minor": 2
}
