{
 "cells": [
  {
   "cell_type": "markdown",
   "metadata": {},
   "source": [
    "# Heaps"
   ]
  },
  {
   "cell_type": "code",
   "execution_count": 165,
   "metadata": {},
   "outputs": [],
   "source": [
    "# Implementing Heapsort 0 indexed\n",
    "def parent(i):\n",
    "    return (i+1)//2-1\n",
    "def left(i):\n",
    "    return 2*(i+1) -1\n",
    "def right(i):\n",
    "    return 2*(i+1)\n",
    "\n",
    "def max_heapify(A,i,heapsize = len(A)):\n",
    "    '''\n",
    "    Assuming that trees with roots at index L and R are heaps,\n",
    "    propagates value at A[i] to its correct position in the subheaps in place.\n",
    "    \n",
    "    Inputs: \n",
    "        A - list\n",
    "        i - index to begin heapifying\n",
    "        heapsize - to what index in the array you would like to heapify to'''\n",
    "#     print(\"Looking at value: \",A[i])\n",
    "    l = left(i)\n",
    "    r = right(i)\n",
    "    if l < heapsize and A[l] > A[i]:\n",
    "        largest = l\n",
    "    else:\n",
    "        largest = i\n",
    "    if r < heapsize and A[r] > A[largest]:\n",
    "        largest = r\n",
    "    if largest != i:\n",
    "#         print(\"Swapping: \",A[i],A[largest])\n",
    "        A[i],A[largest] = A[largest],A[i]\n",
    "        max_heapify(A,largest,heapsize)\n",
    "        \n",
    "def build_max_heap(A):\n",
    "    heapsize=len(A)\n",
    "#     print(\"A at start: \", A)\n",
    "    for i in range(len(A)//2-1,-1,-1):\n",
    "#         print(i)\n",
    "#         print(A)\n",
    "        max_heapify(A,i,heapsize)\n",
    "def heapsort(A):\n",
    "    build_max_heap(A)\n",
    "    heapsize = len(A)\n",
    "    for i in range(len(A)-1, 0, -1):\n",
    "        A[0],A[i] = A[i],A[0]\n",
    "        heapsize -= 1\n",
    "        max_heapify(A,0,heapsize)\n",
    "\n",
    "def heap_extract_max(heap):\n",
    "    heap_size = len(heap) - 1\n",
    "    heap[0],heap[heap_size] = heap[heap_size],heap[0]\n",
    "    max_heapify(heap,0,heap_size-1)\n",
    "    return B.pop(heap_size)\n",
    "    "
   ]
  },
  {
   "cell_type": "code",
   "execution_count": 157,
   "metadata": {},
   "outputs": [
    {
     "data": {
      "text/plain": [
       "[16, 14, 10, 8, 7, 9, 3, 2, 4, 1]"
      ]
     },
     "execution_count": 157,
     "metadata": {},
     "output_type": "execute_result"
    }
   ],
   "source": [
    "A=[16,4,10,14,7,9,3,2,8,1]\n",
    "max_heapify(A,1,len(A))\n",
    "A"
   ]
  },
  {
   "cell_type": "code",
   "execution_count": 169,
   "metadata": {},
   "outputs": [
    {
     "name": "stdout",
     "output_type": "stream",
     "text": [
      "Max heap:  [16, 14, 10, 8, 7, 9, 3, 2, 4, 1]\n"
     ]
    },
    {
     "data": {
      "text/plain": [
       "[14, 8, 10, 2, 7, 9, 3, 1, 4]"
      ]
     },
     "execution_count": 169,
     "metadata": {},
     "output_type": "execute_result"
    }
   ],
   "source": [
    "B = [4,1,3,2,16,9,10,14,8,7]\n",
    "build_max_heap(B)\n",
    "print(\"Max heap: \",B)\n",
    "heap_extract_max(B)\n",
    "B\n"
   ]
  },
  {
   "cell_type": "code",
   "execution_count": 167,
   "metadata": {},
   "outputs": [
    {
     "data": {
      "text/plain": [
       "[1, 2, 3, 4, 7, 8, 9, 10, 14]"
      ]
     },
     "execution_count": 167,
     "metadata": {},
     "output_type": "execute_result"
    }
   ],
   "source": [
    "heapsort(B)\n",
    "B"
   ]
  },
  {
   "cell_type": "code",
   "execution_count": null,
   "metadata": {},
   "outputs": [],
   "source": []
  },
  {
   "cell_type": "code",
   "execution_count": null,
   "metadata": {},
   "outputs": [],
   "source": []
  },
  {
   "cell_type": "code",
   "execution_count": null,
   "metadata": {},
   "outputs": [],
   "source": []
  }
 ],
 "metadata": {
  "kernelspec": {
   "display_name": "Python 3",
   "language": "python",
   "name": "python3"
  },
  "language_info": {
   "codemirror_mode": {
    "name": "ipython",
    "version": 3
   },
   "file_extension": ".py",
   "mimetype": "text/x-python",
   "name": "python",
   "nbconvert_exporter": "python",
   "pygments_lexer": "ipython3",
   "version": "3.7.3"
  }
 },
 "nbformat": 4,
 "nbformat_minor": 2
}
