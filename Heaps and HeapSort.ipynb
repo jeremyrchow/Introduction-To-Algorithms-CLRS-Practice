{
 "cells": [
  {
   "cell_type": "markdown",
   "metadata": {},
   "source": [
    "# Heaps"
   ]
  },
  {
   "cell_type": "code",
   "execution_count": 224,
   "metadata": {},
   "outputs": [],
   "source": [
    "# Implementing Heapsort 0 indexed\n",
    "def parent(i):\n",
    "    return (i+1)//2-1\n",
    "def left(i):\n",
    "    return 2*(i+1) -1\n",
    "def right(i):\n",
    "    return 2*(i+1)\n",
    "\n",
    "def max_heapify(A,i,heapsize = len(A)):\n",
    "    '''\n",
    "    Assuming that trees with roots at index L and R are heaps,\n",
    "    propagates value at A[i] to its correct position in the subheaps in place.\n",
    "    \n",
    "    Inputs: \n",
    "        A - list\n",
    "        i - index to begin heapifying\n",
    "        heapsize - to what index in the array you would like to heapify to'''\n",
    "#     print(\"Looking at value: \",A[i])\n",
    "    l = left(i)\n",
    "    r = right(i)\n",
    "    if l < heapsize and A[l] > A[i]:\n",
    "        largest = l\n",
    "    else:\n",
    "        largest = i\n",
    "    if r < heapsize and A[r] > A[largest]:\n",
    "        largest = r\n",
    "    if largest != i:\n",
    "#         print(\"Swapping: \",A[i],A[largest])\n",
    "        A[i],A[largest] = A[largest],A[i]\n",
    "        max_heapify(A,largest,heapsize)\n",
    "        \n",
    "def build_max_heap(A):\n",
    "    heapsize=len(A)\n",
    "#     print(\"A at start: \", A)\n",
    "    for i in range(len(A)//2-1,-1,-1):\n",
    "#         print(i)\n",
    "#         print(A)\n",
    "        max_heapify(A,i,heapsize)\n",
    "def heapsort(A):\n",
    "    build_max_heap(A)\n",
    "    heapsize = len(A)\n",
    "    for i in range(len(A)-1, 0, -1):\n",
    "        A[0],A[i] = A[i],A[0]\n",
    "        heapsize -= 1\n",
    "        max_heapify(A,0,heapsize)\n",
    "# Priority Queue operations\n",
    "def heap_extract_max(heap):\n",
    "    heap_size = len(heap) - 1\n",
    "    heap[0],heap[heap_size] = heap[heap_size],heap[0]\n",
    "    max_heapify(heap,0,heap_size)\n",
    "    return B.pop(heap_size)\n",
    "def heap_increase_key(A,i,key):\n",
    "    A[i] = key\n",
    "    while i > 0 and A[parent(i)] < key:\n",
    "        print(f\"i: {i}\")\n",
    "        print(f\"i_parent: {parent(i)}, {A[parent(i)]}\")\n",
    "        A[parent(i)],A[i] = A[i],A[parent(i)]\n",
    "        print(\"After swap:\")\n",
    "        print(f\"i: {i}\")\n",
    "        print(f\"i_parent: {parent(i)}, {A[parent(i)]}\")\n",
    "        i = parent(i)\n",
    "        \n",
    "def max_heap_insert(A,key):\n",
    "    A.append(0)\n",
    "    heapsize = len(A) - 1\n",
    "    heap_increase_key(A,heapsize,key)"
   ]
  },
  {
   "cell_type": "code",
   "execution_count": 225,
   "metadata": {},
   "outputs": [
    {
     "name": "stdout",
     "output_type": "stream",
     "text": [
      "[16, 14, 10, 8, 7, 9, 3, 2, 4, 1]\n",
      "i: 8\n",
      "i_parent: 3, 8\n",
      "After swap:\n",
      "i: 8\n",
      "i_parent: 3, 15\n",
      "i: 3\n",
      "i_parent: 1, 14\n",
      "After swap:\n",
      "i: 3\n",
      "i_parent: 1, 15\n",
      "[16, 15, 10, 14, 7, 9, 3, 2, 8, 1]\n"
     ]
    }
   ],
   "source": [
    "A=[16,4,10,14,7,9,3,2,8,1]\n",
    "max_heapify(A,1,len(A))\n",
    "print(A)\n",
    "heap_increase_key(A,8,15)\n",
    "print(A)"
   ]
  },
  {
   "cell_type": "code",
   "execution_count": 217,
   "metadata": {},
   "outputs": [
    {
     "name": "stdout",
     "output_type": "stream",
     "text": [
      "Max heap:  [16, 14, 10, 8, 7, 9, 3, 2, 4, 1]\n",
      "[14, 8, 10, 4, 7, 9, 3, 2, 1]\n"
     ]
    },
    {
     "data": {
      "text/plain": [
       "[14, 8, 10, 4, 7, 9, 3, 2, 1, 5]"
      ]
     },
     "execution_count": 217,
     "metadata": {},
     "output_type": "execute_result"
    }
   ],
   "source": [
    "B = [4,1,3,2,16,9,10,14,8,7]\n",
    "build_max_heap(B)\n",
    "print(\"Max heap: \",B)\n",
    "heap_extract_max(B)\n",
    "print(B)\n",
    "max_heap_insert(B,5)\n",
    "B"
   ]
  },
  {
   "cell_type": "code",
   "execution_count": 218,
   "metadata": {},
   "outputs": [
    {
     "data": {
      "text/plain": [
       "[1, 2, 3, 4, 5, 7, 8, 9, 10, 14]"
      ]
     },
     "execution_count": 218,
     "metadata": {},
     "output_type": "execute_result"
    }
   ],
   "source": [
    "heapsort(B)\n",
    "B"
   ]
  },
  {
   "cell_type": "code",
   "execution_count": 223,
   "metadata": {},
   "outputs": [
    {
     "name": "stdout",
     "output_type": "stream",
     "text": [
      "i: 2\n",
      "i_parent: 0, 3\n",
      "After swap:\n",
      "i: 2\n",
      "i_parent: 0, 5\n"
     ]
    },
    {
     "data": {
      "text/plain": [
       "[5, 2, 3]"
      ]
     },
     "execution_count": 223,
     "metadata": {},
     "output_type": "execute_result"
    }
   ],
   "source": [
    "A=[3,2,1]\n",
    "heap_increase_key(A,2,5)\n",
    "A"
   ]
  },
  {
   "cell_type": "markdown",
   "metadata": {},
   "source": [
    "# Min Heap"
   ]
  },
  {
   "cell_type": "code",
   "execution_count": 359,
   "metadata": {},
   "outputs": [],
   "source": [
    "def min_heapify(A,i,heapsize=len(A)):\n",
    "    '''Assuming trees starting from children are valid min heaps, \n",
    "    propagates node at index I in array A downwards until it satisfies the min heap\n",
    "    condition (parent < child)'''\n",
    "    smallest_index = 0\n",
    "    l = left(i)\n",
    "    r = right(i)\n",
    "#     print(l,r,heapsize)\n",
    "    if l < heapsize and A[i] > A[l]:\n",
    "        smallest_index=l\n",
    "    else:\n",
    "        smallest_index = i\n",
    "    if r < heapsize and A[r] < A[smallest_index]:\n",
    "        smallest_index = r\n",
    "    if smallest_index != i:\n",
    "        A[i], A[smallest_index] = A[smallest_index], A[i]\n",
    "        min_heapify(A,smallest_index,heapsize)\n",
    "def build_min_heap(A,heapsize = len(A)):\n",
    "    '''\n",
    "    to build a min heap, need to call min heapify on each node that is not a leaf node.\n",
    "    leaf nodes are any node beyond heap_size-1 // 2\n",
    "    '''\n",
    "    last_non_leaf_index = (heapsize-1) // 2\n",
    "    for i in range(last_non_leaf_index, -1, -1): # May need to stop at 1?\n",
    "#         print(\"i: \",i)\n",
    "        min_heapify(A,i,heapsize)\n",
    "#         print(A)\n",
    "def min_heap_sort(A,heapsize = len(A)-1):\n",
    "    build_min_heap(A)\n",
    "    for i in range(heapsize,0,-1):\n",
    "        A[0],A[i] = A[i], A[0]\n",
    "        min_heapify(A,0,i)"
   ]
  },
  {
   "cell_type": "code",
   "execution_count": 382,
   "metadata": {},
   "outputs": [],
   "source": [
    "def extract_min(A):\n",
    "    heapsize = len(A)\n",
    "    A[0],A[heapsize-1] = A[heapsize-1],A[0]\n",
    "    min_heapify(A,0,heapsize-1)\n",
    "    return A.pop(-1)\n",
    "def min_heap_change_value(A,i,value):\n",
    "    '''Assuming trees starting from children are valid min heaps, \n",
    "    propagates node at index I in array A upwards until it satisfies the min heap\n",
    "    condition (parent < child)'''\n",
    "    A[i]=value\n",
    "    while A[i] < A[parent(i)] and i > 0:\n",
    "        print(i,parent(i))\n",
    "        A[i], A[parent(i)] = A[parent(i)], A[i]\n",
    "        i = parent(i)\n",
    "def min_heap_insert(A,val):\n",
    "    A.append(float('Inf'))\n",
    "    min_heap_change_value(A,len(A)-1,val)\n",
    "    "
   ]
  },
  {
   "cell_type": "code",
   "execution_count": 384,
   "metadata": {},
   "outputs": [
    {
     "name": "stdout",
     "output_type": "stream",
     "text": [
      "Min_Heap of A:  [1, 2, 4, 3, 8, 7, 10, 16, 9, 14]\n",
      "Extracted min:  1\n",
      "[2, 3, 4, 9, 8, 7, 10, 16, 14]\n",
      "8 3\n",
      "3 1\n",
      "1 0\n",
      "[1, 2, 4, 3, 8, 7, 10, 16, 9]\n",
      "9 4\n",
      "[1, 2, 4, 3, 6, 7, 10, 16, 9, 8]\n"
     ]
    }
   ],
   "source": [
    "A=[10, 3, 2, 6, 8, 4, 9]\n",
    "A= [4,1,3,2,16,9,10,14,8,7]\n",
    "\n",
    "min_heap_sort(A)\n",
    "build_min_heap(A)\n",
    "print(\"Min_Heap of A: \",A)\n",
    "print(\"Extracted min: \", extract_min(A))\n",
    "print(A)\n",
    "min_heap_change_value(A,len(A)-1,1)\n",
    "print(A)\n",
    "min_heap_insert(A,6)\n",
    "print(A)"
   ]
  },
  {
   "cell_type": "code",
   "execution_count": 397,
   "metadata": {},
   "outputs": [],
   "source": [
    "def is_min_heap(A):\n",
    "    for i in range((len(A)-1)//2):\n",
    "        l= left(i)\n",
    "        r = right(i)\n",
    "        if l < len(A):\n",
    "            if A[l] < A[i]:\n",
    "                return False\n",
    "        if r < len(A):\n",
    "            if A[r] < A[i]:\n",
    "                return False\n",
    "    return True"
   ]
  },
  {
   "cell_type": "code",
   "execution_count": 398,
   "metadata": {},
   "outputs": [
    {
     "data": {
      "text/plain": [
       "[16, 9, 10, 3, 8, 7, 4, 1, 2, 6]"
      ]
     },
     "execution_count": 398,
     "metadata": {},
     "output_type": "execute_result"
    }
   ],
   "source": [
    "A"
   ]
  },
  {
   "cell_type": "code",
   "execution_count": 394,
   "metadata": {},
   "outputs": [
    {
     "data": {
      "text/plain": [
       "False"
      ]
     },
     "execution_count": 394,
     "metadata": {},
     "output_type": "execute_result"
    }
   ],
   "source": [
    "is_min_heap(A)\n"
   ]
  },
  {
   "cell_type": "code",
   "execution_count": null,
   "metadata": {},
   "outputs": [],
   "source": []
  },
  {
   "cell_type": "code",
   "execution_count": null,
   "metadata": {},
   "outputs": [],
   "source": []
  }
 ],
 "metadata": {
  "kernelspec": {
   "display_name": "Python 3",
   "language": "python",
   "name": "python3"
  },
  "language_info": {
   "codemirror_mode": {
    "name": "ipython",
    "version": 3
   },
   "file_extension": ".py",
   "mimetype": "text/x-python",
   "name": "python",
   "nbconvert_exporter": "python",
   "pygments_lexer": "ipython3",
   "version": "3.7.3"
  }
 },
 "nbformat": 4,
 "nbformat_minor": 2
}
