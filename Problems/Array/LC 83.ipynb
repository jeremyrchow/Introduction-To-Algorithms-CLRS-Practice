{
 "cells": [
  {
   "cell_type": "markdown",
   "metadata": {},
   "source": [
    "# 83. Remove Duplicates from Sorted List"
   ]
  },
  {
   "cell_type": "code",
   "execution_count": null,
   "metadata": {},
   "outputs": [],
   "source": [
    "\n",
    "class Solution:\n",
    "    def deleteDuplicates(self, head: ListNode) -> ListNode:\n",
    "        if not head or not head.next:\n",
    "            return head\n",
    "        curr = head.next\n",
    "        prev = head\n",
    "        while curr and prev:\n",
    "            if prev.val == curr.val:\n",
    "                if curr.next:\n",
    "                    prev.next = curr.next\n",
    "                    curr = prev.next\n",
    "                else:\n",
    "                    prev.next = None\n",
    "                    return head\n",
    "            else:\n",
    "                prev = prev.next\n",
    "                curr = curr.next\n",
    "        # May need to do end case\n",
    "        return head"
   ]
  },
  {
   "cell_type": "markdown",
   "metadata": {},
   "source": [
    "## Time complexity: O(N)\n",
    "iterates through N elements once\n",
    "\n",
    "## Space complexity: O(1)\n",
    "Only stores 2 values at a time regardless of length of input: current value, previous value. Returns original passed variable head once complete\n"
   ]
  },
  {
   "cell_type": "markdown",
   "metadata": {},
   "source": [
    "May need to look into two pointer tortoise and hare cyclic algorithm in future"
   ]
  },
  {
   "cell_type": "code",
   "execution_count": null,
   "metadata": {},
   "outputs": [],
   "source": []
  }
 ],
 "metadata": {
  "kernelspec": {
   "display_name": "Python 3",
   "language": "python",
   "name": "python3"
  },
  "language_info": {
   "codemirror_mode": {
    "name": "ipython",
    "version": 3
   },
   "file_extension": ".py",
   "mimetype": "text/x-python",
   "name": "python",
   "nbconvert_exporter": "python",
   "pygments_lexer": "ipython3",
   "version": "3.7.3"
  }
 },
 "nbformat": 4,
 "nbformat_minor": 2
}
