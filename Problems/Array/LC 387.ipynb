{
 "cells": [
  {
   "cell_type": "markdown",
   "metadata": {},
   "source": [
    "# 387. First Unique Character in a String"
   ]
  },
  {
   "cell_type": "code",
   "execution_count": null,
   "metadata": {},
   "outputs": [],
   "source": [
    "class Solution:\n",
    "    def firstUniqChar(self, s: str) -> int:\n",
    "        seen = set()\n",
    "        pos= dict()\n",
    "        for i,letter in enumerate(s):\n",
    "            if letter not in seen:\n",
    "                seen.add(letter)\n",
    "                pos[letter] = i\n",
    "            else:\n",
    "                if letter in pos.keys():\n",
    "                    del pos[letter]\n",
    "        if not pos.values():\n",
    "            return -1\n",
    "        return min(pos.values())\n",
    "        "
   ]
  }
 ],
 "metadata": {
  "kernelspec": {
   "display_name": "Python 3",
   "language": "python",
   "name": "python3"
  },
  "language_info": {
   "codemirror_mode": {
    "name": "ipython",
    "version": 3
   },
   "file_extension": ".py",
   "mimetype": "text/x-python",
   "name": "python",
   "nbconvert_exporter": "python",
   "pygments_lexer": "ipython3",
   "version": "3.7.3"
  }
 },
 "nbformat": 4,
 "nbformat_minor": 2
}
