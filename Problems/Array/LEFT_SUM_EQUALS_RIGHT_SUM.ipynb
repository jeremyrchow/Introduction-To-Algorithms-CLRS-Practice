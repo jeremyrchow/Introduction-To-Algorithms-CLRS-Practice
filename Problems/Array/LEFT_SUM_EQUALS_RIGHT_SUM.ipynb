{
 "cells": [
  {
   "cell_type": "markdown",
   "metadata": {},
   "source": [
    "Given, an array of size n. Find an element which divides the array in two sub-arrays with equal sum.\n",
    "\n",
    "Examples:\n",
    "\n",
    "Input : 1 4 2 5\n",
    "Output : 2\n",
    "Explanation : If 2 is the partition, \n",
    "      subarrays are : {1, 4} and {5}\n",
    "\n",
    "Input : 2 3 4 1 4 5\n",
    "Output : 1\n",
    "Explanation : If 1 is the partition, \n",
    " Subarrays are : {2, 3, 4} and {4, 5}\n"
   ]
  },
  {
   "cell_type": "code",
   "execution_count": 17,
   "metadata": {},
   "outputs": [],
   "source": [
    "a=[2,3,4,1,4,5]"
   ]
  },
  {
   "cell_type": "markdown",
   "metadata": {},
   "source": [
    "Complexity:\n",
    "TIME: O(N) for summing + O(N) again for second pass through\n",
    "SPACE: O(C) - We only store the sums of two halves of the arrays"
   ]
  },
  {
   "cell_type": "code",
   "execution_count": 15,
   "metadata": {},
   "outputs": [],
   "source": [
    "def equal_sub_arrays(nums):\n",
    "    right = sum(nums) - nums[0]\n",
    "    left = 0\n",
    "    for i in range(1,len(nums)):\n",
    "        print(left,right)\n",
    "        right = right - nums[i]\n",
    "        left = left + nums[i-1]\n",
    "        if right==left:\n",
    "            return i,nums[i],right,left"
   ]
  },
  {
   "cell_type": "code",
   "execution_count": 16,
   "metadata": {},
   "outputs": [
    {
     "name": "stdout",
     "output_type": "stream",
     "text": [
      "0 11\n",
      "1 7\n"
     ]
    },
    {
     "data": {
      "text/plain": [
       "(2, 2, 5, 5)"
      ]
     },
     "execution_count": 16,
     "metadata": {},
     "output_type": "execute_result"
    }
   ],
   "source": [
    "equal_sub_arrays([1,4,2,5])"
   ]
  },
  {
   "cell_type": "code",
   "execution_count": 18,
   "metadata": {},
   "outputs": [
    {
     "name": "stdout",
     "output_type": "stream",
     "text": [
      "0 17\n",
      "2 14\n",
      "5 10\n"
     ]
    },
    {
     "data": {
      "text/plain": [
       "(3, 1, 9, 9)"
      ]
     },
     "execution_count": 18,
     "metadata": {},
     "output_type": "execute_result"
    }
   ],
   "source": [
    "equal_sub_arrays(a)"
   ]
  },
  {
   "cell_type": "code",
   "execution_count": null,
   "metadata": {},
   "outputs": [],
   "source": []
  }
 ],
 "metadata": {
  "kernelspec": {
   "display_name": "Python 3",
   "language": "python",
   "name": "python3"
  },
  "language_info": {
   "codemirror_mode": {
    "name": "ipython",
    "version": 3
   },
   "file_extension": ".py",
   "mimetype": "text/x-python",
   "name": "python",
   "nbconvert_exporter": "python",
   "pygments_lexer": "ipython3",
   "version": "3.7.4"
  }
 },
 "nbformat": 4,
 "nbformat_minor": 2
}
