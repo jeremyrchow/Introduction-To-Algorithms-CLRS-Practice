{
 "cells": [
  {
   "cell_type": "markdown",
   "metadata": {},
   "source": [
    "# 283. Move Zeroes"
   ]
  },
  {
   "cell_type": "markdown",
   "metadata": {},
   "source": [
    "Given an array nums, write a function to move all 0's to the end of it while maintaining the relative order of the non-zero elements.\n",
    "\n",
    "Example:\n",
    "\n",
    "Input: [0,1,0,3,12]\n",
    "Output: [1,3,12,0,0]\n",
    "\n",
    "Note:\n",
    "\n",
    "    You must do this in-place without making a copy of the array.\n",
    "    Minimize the total number of operations.\n"
   ]
  },
  {
   "cell_type": "code",
   "execution_count": null,
   "metadata": {},
   "outputs": [],
   "source": [
    "class Solution:\n",
    "    def moveZeroes(self, nums: List[int]) -> None:\n",
    "        \"\"\"\n",
    "        Do not return anything, modify nums in-place instead.\n",
    "        \n",
    "        while loop  < some range\n",
    "        when encountering a zero, remove it but don't increment i in while loop\n",
    "        when counter reache sbeginning of zero sequence, stop\n",
    "        \"\"\"\n",
    "        nums_len = len(nums)\n",
    "        i=num_zeroes=0\n",
    "        while i < nums_len-num_zeroes:\n",
    "            if nums[i] == 0:\n",
    "                nums.append(nums.pop(i))\n",
    "                num_zeroes += 1\n",
    "            else:\n",
    "                i+=1\n",
    "            "
   ]
  },
  {
   "cell_type": "markdown",
   "metadata": {},
   "source": [
    "## Time complexity: O(N)\n",
    "Iterates through N elements once\n",
    "\n",
    "## Space complexity: O(1)\n",
    "Modifies list in place, only stores the total length of list and the number of zeros"
   ]
  },
  {
   "cell_type": "code",
   "execution_count": null,
   "metadata": {},
   "outputs": [],
   "source": []
  }
 ],
 "metadata": {
  "kernelspec": {
   "display_name": "Python 3",
   "language": "python",
   "name": "python3"
  },
  "language_info": {
   "codemirror_mode": {
    "name": "ipython",
    "version": 3
   },
   "file_extension": ".py",
   "mimetype": "text/x-python",
   "name": "python",
   "nbconvert_exporter": "python",
   "pygments_lexer": "ipython3",
   "version": "3.7.3"
  }
 },
 "nbformat": 4,
 "nbformat_minor": 2
}
