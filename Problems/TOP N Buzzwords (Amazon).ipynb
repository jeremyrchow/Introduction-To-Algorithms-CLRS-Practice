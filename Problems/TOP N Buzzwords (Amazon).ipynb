{
 "cells": [
  {
   "cell_type": "code",
   "execution_count": 7,
   "metadata": {},
   "outputs": [],
   "source": [
    "\n",
    "import string"
   ]
  },
  {
   "cell_type": "code",
   "execution_count": 8,
   "metadata": {},
   "outputs": [],
   "source": [
    "\n",
    "numToys = 6\n",
    "\n",
    "topToys = 2\n",
    "\n",
    "toys = [\"elmo\", \"elsa\", \"legos\", \"drone\", \"tablet\", \"warcraft\"]\n",
    "\n",
    "numQuotes = 6\n",
    "\n",
    "quotes = [\n",
    "\"Elmo is the hottest of the season! Elmo will be on every kid's wishlist!\",\n",
    "\"The new Elmo dolls are super high quality\",\n",
    "\"Expect the Elsa dolls to be very popular this year, Elsa!\",\n",
    "\"Elsa and Elmo are the toys I'll be buying for my kids, Elsa is good\",\n",
    "\"For parents of older kids, look into buying them a drone\",\n",
    "\"Warcraft is slowly rising in popularity ahead of the holiday season\"\n",
    "];\n"
   ]
  },
  {
   "cell_type": "code",
   "execution_count": 14,
   "metadata": {},
   "outputs": [],
   "source": [
    "def topNBuzzWords(numToys,topToys,toys,numQuotes,quotes):\n",
    "    seen= {k: [0,0] for k in toys}\n",
    "    def get_occurrences(quote,toys,seen):\n",
    "        quote_specific=set()\n",
    "        filtered = ''.join([char for char in quote.lower() if char not in string.punctuation]).split()\n",
    "        for word in filtered:\n",
    "            if word in seen.keys():\n",
    "                seen[word][0] +=1\n",
    "                quote_specific.add(word)\n",
    "        for word in quote_specific:\n",
    "            seen[word][1] += 1\n",
    "        return seen\n",
    "    for quote in quotes:\n",
    "        seen=get_occurrences(quote,toys,seen)\n",
    "    sorted_dict = {k: v for k,v in sorted(seen.items(), \n",
    "                            key = lambda x: (x[1][0],x[1][1]),\n",
    "                           reverse = True)}\n",
    "    print(sorted_dict)\n",
    "    return list(sorted_dict.keys())[0:topToys]"
   ]
  },
  {
   "cell_type": "code",
   "execution_count": 15,
   "metadata": {},
   "outputs": [
    {
     "name": "stdout",
     "output_type": "stream",
     "text": [
      "{'elmo': [4, 3], 'elsa': [4, 2], 'drone': [1, 1], 'warcraft': [1, 1], 'legos': [0, 0], 'tablet': [0, 0]}\n"
     ]
    },
    {
     "data": {
      "text/plain": [
       "['elmo', 'elsa', 'drone', 'warcraft']"
      ]
     },
     "execution_count": 15,
     "metadata": {},
     "output_type": "execute_result"
    }
   ],
   "source": [
    "topNBuzzWords(numToys,4,toys,numQuotes,quotes)"
   ]
  },
  {
   "cell_type": "code",
   "execution_count": 13,
   "metadata": {},
   "outputs": [
    {
     "data": {
      "text/plain": [
       "['elmo', 'elsa', 'legos', 'drone', 'tablet', 'warcraft']"
      ]
     },
     "execution_count": 13,
     "metadata": {},
     "output_type": "execute_result"
    }
   ],
   "source": [
    "toys"
   ]
  },
  {
   "cell_type": "code",
   "execution_count": null,
   "metadata": {},
   "outputs": [],
   "source": []
  }
 ],
 "metadata": {
  "kernelspec": {
   "display_name": "Python 3",
   "language": "python",
   "name": "python3"
  },
  "language_info": {
   "codemirror_mode": {
    "name": "ipython",
    "version": 3
   },
   "file_extension": ".py",
   "mimetype": "text/x-python",
   "name": "python",
   "nbconvert_exporter": "python",
   "pygments_lexer": "ipython3",
   "version": "3.7.4"
  }
 },
 "nbformat": 4,
 "nbformat_minor": 2
}
