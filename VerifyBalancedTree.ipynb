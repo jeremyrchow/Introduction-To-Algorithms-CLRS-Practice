{
 "cells": [
  {
   "cell_type": "markdown",
   "metadata": {},
   "source": [
    "# Verifying Balanced tree Leetcode"
   ]
  },
  {
   "cell_type": "markdown",
   "metadata": {},
   "source": [
    "https://leetcode.com/problems/balanced-binary-tree/"
   ]
  },
  {
   "cell_type": "code",
   "execution_count": null,
   "metadata": {},
   "outputs": [],
   "source": [
    "    def dfs(self,root):\n",
    "        l_is_balanced,r_is_balanced= True,True\n",
    "        l_height = r_height = -1 \n",
    "        if not root:\n",
    "            return -1, True\n",
    "        if root.left:\n",
    "            l_height, l_is_balanced = self.dfs(root.left)\n",
    "        if root.right:\n",
    "            r_height, r_is_balanced = self.dfs(root.right)\n",
    "        print(root.val, 1+max(l_height,r_height),abs(l_height - r_height)<=1)\n",
    "        return 1+max(l_height,r_height), abs(l_height - r_height)<=1 and l_is_balanced and r_is_balanced\n",
    "    \n",
    "    def isBalanced(self, root: TreeNode) -> bool:\n",
    "        return self.dfs(root)[1]\n",
    "        \n",
    "   "
   ]
  },
  {
   "cell_type": "code",
   "execution_count": 3,
   "metadata": {},
   "outputs": [
    {
     "data": {
      "text/plain": [
       "[('t', 'e', 's', 't'),\n",
       " ('t', 'e', 't', 's'),\n",
       " ('t', 's', 'e', 't'),\n",
       " ('t', 's', 't', 'e'),\n",
       " ('t', 't', 'e', 's'),\n",
       " ('t', 't', 's', 'e'),\n",
       " ('e', 't', 's', 't'),\n",
       " ('e', 't', 't', 's'),\n",
       " ('e', 's', 't', 't'),\n",
       " ('e', 's', 't', 't'),\n",
       " ('e', 't', 't', 's'),\n",
       " ('e', 't', 's', 't'),\n",
       " ('s', 't', 'e', 't'),\n",
       " ('s', 't', 't', 'e'),\n",
       " ('s', 'e', 't', 't'),\n",
       " ('s', 'e', 't', 't'),\n",
       " ('s', 't', 't', 'e'),\n",
       " ('s', 't', 'e', 't'),\n",
       " ('t', 't', 'e', 's'),\n",
       " ('t', 't', 's', 'e'),\n",
       " ('t', 'e', 't', 's'),\n",
       " ('t', 'e', 's', 't'),\n",
       " ('t', 's', 't', 'e'),\n",
       " ('t', 's', 'e', 't')]"
      ]
     },
     "execution_count": 3,
     "metadata": {},
     "output_type": "execute_result"
    }
   ],
   "source": [
    "import itertools\n",
    "list(itertools.permutations('test'))"
   ]
  },
  {
   "cell_type": "code",
   "execution_count": null,
   "metadata": {},
   "outputs": [],
   "source": []
  }
 ],
 "metadata": {
  "kernelspec": {
   "display_name": "Python 3",
   "language": "python",
   "name": "python3"
  },
  "language_info": {
   "codemirror_mode": {
    "name": "ipython",
    "version": 3
   },
   "file_extension": ".py",
   "mimetype": "text/x-python",
   "name": "python",
   "nbconvert_exporter": "python",
   "pygments_lexer": "ipython3",
   "version": "3.7.4"
  }
 },
 "nbformat": 4,
 "nbformat_minor": 2
}
