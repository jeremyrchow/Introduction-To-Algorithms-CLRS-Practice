{
 "cells": [
  {
   "cell_type": "markdown",
   "metadata": {},
   "source": [
    "# Binary Search Trees - CLRS"
   ]
  },
  {
   "cell_type": "code",
   "execution_count": 1,
   "metadata": {},
   "outputs": [],
   "source": [
    "class TreeNode:\n",
    "    def __init__(self,val):\n",
    "        self.val = val\n",
    "        self.left = None\n",
    "        self.right = None    "
   ]
  },
  {
   "cell_type": "code",
   "execution_count": 75,
   "metadata": {},
   "outputs": [],
   "source": [
    "\n",
    "class BST:\n",
    "    def __init__(self, root):\n",
    "        self.root = root\n",
    "    def insert(self, val: int) -> TreeNode:\n",
    "        root = self.root\n",
    "        parent_pointer = None\n",
    "        current_node = root\n",
    "        while current_node:\n",
    "            parent_pointer = current_node\n",
    "            if val >= current_node.val:\n",
    "                current_node = current_node.right\n",
    "            else:\n",
    "                current_node = current_node.left\n",
    "        if not parent_pointer:\n",
    "            return None\n",
    "        if val >= parent_pointer.val:\n",
    "            parent_pointer.right = TreeNode(val)\n",
    "        else:\n",
    "            parent_pointer.left = TreeNode(val)\n",
    "        return\n",
    "    \n",
    "    def transplant_nodes(root,orig,dest):\n",
    "        if not dest:\n",
    "            root = orig\n",
    "        elif dest == dest.left:\n",
    "            dest.left = orig\n",
    "        else:\n",
    "            dest.right = orig\n",
    "        if orig:\n",
    "            orig = dest\n"
   ]
  },
  {
   "cell_type": "code",
   "execution_count": 76,
   "metadata": {},
   "outputs": [],
   "source": [
    "def list_to_BST(A):\n",
    "    root = TreeNode(A[0])\n",
    "    for i in range(1,len(A)):\n",
    "        insertIntoBST(root,A[i])\n",
    "    return root\n",
    "def in_order_traversal(root):\n",
    "    if root:\n",
    "        in_order_traversal(root.left)\n",
    "        print(root.val)\n",
    "        in_order_traversal(root.right)"
   ]
  },
  {
   "cell_type": "code",
   "execution_count": 77,
   "metadata": {},
   "outputs": [
    {
     "name": "stdout",
     "output_type": "stream",
     "text": [
      "1\n",
      "2\n",
      "3\n",
      "4\n",
      "7\n"
     ]
    }
   ],
   "source": [
    "myBST = BST(list_to_BST(A))\n",
    "in_order_traversal(myBST.root)"
   ]
  },
  {
   "cell_type": "code",
   "execution_count": 32,
   "metadata": {},
   "outputs": [
    {
     "data": {
      "text/plain": [
       "<__main__.BST at 0x10a7588d0>"
      ]
     },
     "execution_count": 32,
     "metadata": {},
     "output_type": "execute_result"
    }
   ],
   "source": [
    "A=[4,2,7,1,3]\n",
    "BST(list_to_BST(A))"
   ]
  },
  {
   "cell_type": "code",
   "execution_count": 9,
   "metadata": {},
   "outputs": [
    {
     "name": "stdout",
     "output_type": "stream",
     "text": [
      "1\n",
      "2\n",
      "3\n",
      "4\n",
      "7\n"
     ]
    }
   ],
   "source": [
    "A=[4,2,7,1,3]\n",
    "in_order_traversal(list_to_BST(A))"
   ]
  },
  {
   "cell_type": "code",
   "execution_count": null,
   "metadata": {},
   "outputs": [],
   "source": []
  }
 ],
 "metadata": {
  "kernelspec": {
   "display_name": "Python 3",
   "language": "python",
   "name": "python3"
  },
  "language_info": {
   "codemirror_mode": {
    "name": "ipython",
    "version": 3
   },
   "file_extension": ".py",
   "mimetype": "text/x-python",
   "name": "python",
   "nbconvert_exporter": "python",
   "pygments_lexer": "ipython3",
   "version": "3.7.3"
  }
 },
 "nbformat": 4,
 "nbformat_minor": 2
}
