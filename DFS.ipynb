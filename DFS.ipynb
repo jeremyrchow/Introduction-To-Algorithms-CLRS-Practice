{
 "cells": [
  {
   "cell_type": "code",
   "execution_count": 1,
   "metadata": {},
   "outputs": [
    {
     "name": "stdout",
     "output_type": "stream",
     "text": [
      "HI\n"
     ]
    }
   ],
   "source": [
    "print(\"HI\")"
   ]
  },
  {
   "cell_type": "markdown",
   "metadata": {},
   "source": [
    "# FROM GEEKSFOR GEEKS"
   ]
  },
  {
   "cell_type": "code",
   "execution_count": 2,
   "metadata": {},
   "outputs": [
    {
     "name": "stdout",
     "output_type": "stream",
     "text": [
      "Following is DFS from (starting from vertex 2)\n",
      "2 0 1 3 "
     ]
    }
   ],
   "source": [
    "# Python3 program to print DFS traversal  \n",
    "# from a given given graph \n",
    "from collections import defaultdict \n",
    "# This class represents a directed graph using \n",
    "# adjacency list representation\n",
    "class Graph: \n",
    "    # Constructor \n",
    "    def __init__(self): \n",
    "    # default dictionary to store graph \n",
    "        self.graph = defaultdict(list) \n",
    "    \n",
    "    # function to add an edge to graph \n",
    "    def addEdge(self, u, v): \n",
    "        self.graph[u].append(v) \n",
    "        \n",
    "    # A function used by DFS \n",
    "    def DFSUtil(self, v, visited): \n",
    "        \n",
    "    # Mark the current node as visited  \n",
    "    # and print it \n",
    "        visited[v] = True\n",
    "        print(v, end = ' ') \n",
    "\n",
    "    # Recur for all the vertices  \n",
    "        # adjacent to this vertex \n",
    "        for i in self.graph[v]: \n",
    "            if visited[i] == False: \n",
    "                self.DFSUtil(i, visited) \n",
    "\n",
    "    # The function to do DFS traversal. It uses \n",
    "    # recursive DFSUtil() \n",
    "    \n",
    "    def DFS(self, v): \n",
    "    # Mark all the vertices as not visited \n",
    "        visited = [False] * (len(self.graph))  \n",
    "\n",
    "    ## Call the recursive helper function  \n",
    "    # to print DFS traversal \n",
    "        self.DFSUtil(v, visited) \n",
    "\n",
    "    # Driver code: Create a graph given in the above diagram \n",
    "g = Graph() \n",
    "g.addEdge(0, 1) \n",
    "g.addEdge(0, 2) \n",
    "g.addEdge(1, 2) \n",
    "g.addEdge(2, 0) \n",
    "g.addEdge(2, 3) \n",
    "g.addEdge(3, 3) \n",
    "  \n",
    "print(\"Following is DFS from (starting from vertex 2)\") \n",
    "g.DFS(2) \n",
    "  \n",
    "# This code is contributed by Neelam Yadav \n"
   ]
  },
  {
   "cell_type": "code",
   "execution_count": null,
   "metadata": {},
   "outputs": [],
   "source": []
  }
 ],
 "metadata": {
  "kernelspec": {
   "display_name": "Python 3",
   "language": "python",
   "name": "python3"
  },
  "language_info": {
   "codemirror_mode": {
    "name": "ipython",
    "version": 3
   },
   "file_extension": ".py",
   "mimetype": "text/x-python",
   "name": "python",
   "nbconvert_exporter": "python",
   "pygments_lexer": "ipython3",
   "version": "3.7.4"
  }
 },
 "nbformat": 4,
 "nbformat_minor": 2
}
