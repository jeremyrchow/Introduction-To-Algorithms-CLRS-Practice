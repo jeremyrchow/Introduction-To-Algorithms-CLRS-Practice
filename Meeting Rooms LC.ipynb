{
 "cells": [
  {
   "cell_type": "markdown",
   "metadata": {},
   "source": [
    "# Meeting Room LC"
   ]
  },
  {
   "cell_type": "markdown",
   "metadata": {},
   "source": [
    "https://leetcode.com/problems/meeting-rooms/"
   ]
  },
  {
   "cell_type": "markdown",
   "metadata": {},
   "source": [
    "Given an array of meeting time intervals consisting of start and end times [[s1,e1],[s2,e2],...] (si < ei), find the minimum number of conference rooms required.\n",
    "\n",
    "\n",
    "For example,\n",
    "Given [[0, 30],[5, 10],[15, 20]],\n",
    "return 2."
   ]
  },
  {
   "cell_type": "code",
   "execution_count": 5,
   "metadata": {},
   "outputs": [],
   "source": [
    "input_intervals =  [[0, 30],[5, 10],[15, 20],[5,11]]"
   ]
  },
  {
   "cell_type": "code",
   "execution_count": 11,
   "metadata": {},
   "outputs": [],
   "source": [
    "import heapq"
   ]
  },
  {
   "cell_type": "code",
   "execution_count": 29,
   "metadata": {},
   "outputs": [
    {
     "name": "stdout",
     "output_type": "stream",
     "text": [
      "[10, 30, 11] 10\n",
      "[11, 30] 11\n"
     ]
    },
    {
     "data": {
      "text/plain": [
       "3"
      ]
     },
     "execution_count": 29,
     "metadata": {},
     "output_type": "execute_result"
    }
   ],
   "source": [
    "'''\n",
    "Logic:\n",
    "heapqs are binary trees where very parent node has val <= children\n",
    "heapq (priority q's) will always have minimum item at index 0\n",
    "\n",
    "Overview:\n",
    "    we use the heapq to simulate meetings going on essentially by storing end times \n",
    "    \n",
    "By storing end times in heapq, we can look at the closest to expiring end time as\n",
    "we iterate through every itnerval\n",
    "    if the start time of our interval is greater than the minimum end time, we pop the end time\n",
    "    from the heap because our meeting starts after it \n",
    "    jchow\n",
    "    \n",
    "    \n",
    "    if the start time of our interval is less than minimum end time, we need to add a room. \n",
    "    To record this, we push the end time of our next meeting to the heapq. \n",
    "        if our meeting ends EARLIER than the one currently in the heap, our meeting end time\n",
    "        gets pushed to heap[0] due to heap invariant structure (because the way it is). \n",
    "        \n",
    "        This ensures that we are comparing our next intervals to the earliest ending meeting time\n",
    "        \n",
    "    At each step, we can check the maximum number of rooms needed by storing the max of \n",
    "    items in the heap vs. the maximum we've recorded\n",
    "''' \n",
    "\n",
    "def meeting(intvals=input_intervals):\n",
    "    intvals.sort(key= lambda x: x[0])\n",
    "    queue = []\n",
    "    ret = 0\n",
    "    \n",
    "    for itv in intvals:\n",
    "        start,end = itv[0],itv[1]\n",
    "        while queue and queue[0] < start:\n",
    "            print(queue,queue[0])\n",
    "            heapq.heappop(queue)\n",
    "        heapq.heappush(queue,end)\n",
    "        ret = max(ret,len(queue))\n",
    "    return ret\n",
    "\n",
    "meeting()"
   ]
  },
  {
   "cell_type": "code",
   "execution_count": 24,
   "metadata": {},
   "outputs": [],
   "source": [
    "# Definition for an interval.\n",
    "# class Interval(object):\n",
    "#     def __init__(self, s=0, e=0):\n",
    "#         self.start = s\n",
    "#         self.end = e\n",
    "\n",
    "from heapq import heappush, heappop\n",
    "Interval \n",
    "\n",
    "class Solution(object):\n",
    "    def minMeetingRooms(self, intervals):\n",
    "        \"\"\"\n",
    "        :type intervals: List[Interval]\n",
    "        :rtype: int\n",
    "        \"\"\"\n",
    "        SI = sorted(intervals, key=lambda it: (it.start, it.end))  # sorted intervals\n",
    "\n",
    "        ret = 0\n",
    "        heap = []  # contains end times\n",
    "\n",
    "        for it in SI:\n",
    "            start, end = it.start, it.end\n",
    "\n",
    "            while heap and heap[0] <= start:\n",
    "                heappop(heap)\n",
    "\n",
    "            heappush(heap, end)\n",
    "\n",
    "            ret = max(ret, len(heap))\n",
    "\n",
    "        return ret"
   ]
  },
  {
   "cell_type": "code",
   "execution_count": null,
   "metadata": {},
   "outputs": [],
   "source": []
  }
 ],
 "metadata": {
  "kernelspec": {
   "display_name": "Python 3",
   "language": "python",
   "name": "python3"
  },
  "language_info": {
   "codemirror_mode": {
    "name": "ipython",
    "version": 3
   },
   "file_extension": ".py",
   "mimetype": "text/x-python",
   "name": "python",
   "nbconvert_exporter": "python",
   "pygments_lexer": "ipython3",
   "version": "3.7.4"
  }
 },
 "nbformat": 4,
 "nbformat_minor": 2
}
